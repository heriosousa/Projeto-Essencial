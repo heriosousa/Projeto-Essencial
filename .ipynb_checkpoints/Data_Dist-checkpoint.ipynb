{
 "cells": [
  {
   "cell_type": "code",
   "execution_count": 10,
   "metadata": {},
   "outputs": [
    {
     "name": "stdout",
     "output_type": "stream",
     "text": [
      "Retrieving data from KEGG PATHWAY database. Tue Mar 20 16:49:54 2018\n",
      "Building graphs.\n"
     ]
    }
   ],
   "source": [
    "import modelo as m\n",
    "import networkx as nx\n",
    "import Bio.KEGG.REST as rkg\n",
    "import Bio.KEGG.Enzyme as ex\n",
    "\n",
    "eco = m.get_network(\"eco\", opt='eco')"
   ]
  },
  {
   "cell_type": "code",
   "execution_count": null,
   "metadata": {
    "collapsed": true
   },
   "outputs": [],
   "source": [
    "eco_nodes = list(eco.grafo.nodes())\n",
    "eco_nodes.remove('undefined')\n",
    "orf_queries = []\n",
    "product_queries = []\n",
    "\n",
    "for i in range(len(eco_nodes)):\n",
    "    gene = rkg.kegg_get(eco_nodes[i])\n",
    "    tmp = ex.read(gene)\n",
    "    if eco_nodes[i].startswith(\"eco:\"):\n",
    "        orf_queries.append(tmp.name[0])\n",
    "    elif tmp.name != []:\n",
    "        product_queries.append(tmp.name)"
   ]
  },
  {
   "cell_type": "code",
   "execution_count": null,
   "metadata": {
    "collapsed": true,
    "scrolled": true
   },
   "outputs": [],
   "source": [
    "import pandas as pd\n",
    "\n",
    "eco_data = pd.read_table('PECData.dat')\n",
    "eco_data.rename(columns={'Class(1:essential 2:noessential 3:unknown)': 'Class',\n",
    "                         'Alternative name': 'AltName'}, inplace=True)\n",
    "eco_data = eco_data[['Orf','AltName','Class','Product']]\n",
    "eco_data['AltName'] = eco_data['AltName'].apply(lambda x: x.split(','))\n",
    "eco_data = eco_data.drop_duplicates(subset='Orf', keep='first')\n",
    "eco_data.tail()"
   ]
  },
  {
   "cell_type": "code",
   "execution_count": null,
   "metadata": {
    "collapsed": true
   },
   "outputs": [],
   "source": [
    "#Amount of associations in database by node\n",
    "eco_info = {}\n",
    "for orf in orf_queries:\n",
    "    if orf in list(eco_data['Orf']):\n",
    "        eco_info[orf] = 1\n",
    "    elif any(orf in x for x in list(eco_data['AltName'])):\n",
    "        eco_info[orf] = 1\n",
    "    else:\n",
    "        eco_info[orf] = 0\n",
    "for query in product_queries:\n",
    "    eco_info[query[0]] = 0\n",
    "    for product in query:\n",
    "        for data in list(eco_data['Product']):\n",
    "            if product in str(data):\n",
    "                eco_info[query[0]] += 1\n",
    "eco_info.values()"
   ]
  },
  {
   "cell_type": "code",
   "execution_count": null,
   "metadata": {
    "collapsed": true
   },
   "outputs": [],
   "source": [
    "#Nodes with more than 1 association in Escherichia coli MG1655 database\n",
    "[k for k in eco_info if eco_info[k] > 1]"
   ]
  },
  {
   "cell_type": "code",
   "execution_count": null,
   "metadata": {
    "collapsed": true
   },
   "outputs": [],
   "source": [
    "#Node frequency distribution\n",
    "import numpy as np\n",
    "import scipy.stats as stats\n",
    "import matplotlib.pyplot as plt\n",
    "\n",
    "h = sorted(eco_info.values())\n",
    "hmean = np.mean(h)\n",
    "hstd = np.std(h)\n",
    "pdf = stats.norm.pdf(h, hmean, hstd)\n",
    "plt.plot(h, pdf)\n",
    "plt.show()"
   ]
  },
  {
   "cell_type": "code",
   "execution_count": 11,
   "metadata": {},
   "outputs": [
    {
     "name": "stdout",
     "output_type": "stream",
     "text": [
      "Retrieving data from KEGG PATHWAY database. Tue Mar 20 16:58:26 2018\n",
      "Building graphs.\n"
     ]
    }
   ],
   "source": [
    "mge = m.get_network(\"mge\", opt='mge')"
   ]
  },
  {
   "cell_type": "code",
   "execution_count": 13,
   "metadata": {
    "collapsed": true
   },
   "outputs": [],
   "source": [
    "mge_nodes = list(mge.grafo.nodes())\n",
    "mge_nodes.remove('undefined')\n",
    "queries = []\n",
    "\n",
    "for i in range(len(mge_nodes)):\n",
    "    gene = rkg.kegg_get(mge_nodes[i])\n",
    "    tmp = ex.read(gene)\n",
    "    if tmp.name != []:\n",
    "        queries.append(tmp.name)"
   ]
  },
  {
   "cell_type": "code",
   "execution_count": 16,
   "metadata": {
    "collapsed": true
   },
   "outputs": [],
   "source": [
    "import pandas as pd"
   ]
  },
  {
   "cell_type": "code",
   "execution_count": 17,
   "metadata": {},
   "outputs": [
    {
     "data": {
      "text/html": [
       "<div>\n",
       "<style>\n",
       "    .dataframe thead tr:only-child th {\n",
       "        text-align: right;\n",
       "    }\n",
       "\n",
       "    .dataframe thead th {\n",
       "        text-align: left;\n",
       "    }\n",
       "\n",
       "    .dataframe tbody tr th {\n",
       "        vertical-align: top;\n",
       "    }\n",
       "</style>\n",
       "<table border=\"1\" class=\"dataframe\">\n",
       "  <thead>\n",
       "    <tr style=\"text-align: right;\">\n",
       "      <th></th>\n",
       "      <th>Gene_Ref</th>\n",
       "      <th>Organism</th>\n",
       "    </tr>\n",
       "  </thead>\n",
       "  <tbody>\n",
       "    <tr>\n",
       "      <th>2371</th>\n",
       "      <td>[MG_467]</td>\n",
       "      <td>ABC transporter, ATP-binding protein</td>\n",
       "    </tr>\n",
       "    <tr>\n",
       "      <th>2372</th>\n",
       "      <td>[MG_468]</td>\n",
       "      <td>ABC transporter, permease protein</td>\n",
       "    </tr>\n",
       "    <tr>\n",
       "      <th>2373</th>\n",
       "      <td>[MG468.1, MG_526]</td>\n",
       "      <td>ABC transporter, ATP-binding protein</td>\n",
       "    </tr>\n",
       "    <tr>\n",
       "      <th>2374</th>\n",
       "      <td>[dnaA]</td>\n",
       "      <td>chromosomal replication initiator protein DnaA</td>\n",
       "    </tr>\n",
       "    <tr>\n",
       "      <th>2375</th>\n",
       "      <td>[soj]</td>\n",
       "      <td>CobQ/CobB/MinD/ParA nucleotide binding domain</td>\n",
       "    </tr>\n",
       "  </tbody>\n",
       "</table>\n",
       "</div>"
      ],
      "text/plain": [
       "               Gene_Ref                                        Organism\n",
       "2371           [MG_467]            ABC transporter, ATP-binding protein\n",
       "2372           [MG_468]               ABC transporter, permease protein\n",
       "2373  [MG468.1, MG_526]            ABC transporter, ATP-binding protein\n",
       "2374             [dnaA]  chromosomal replication initiator protein DnaA\n",
       "2375              [soj]   CobQ/CobB/MinD/ParA nucleotide binding domain"
      ]
     },
     "execution_count": 17,
     "metadata": {},
     "output_type": "execute_result"
    }
   ],
   "source": [
    "md1 = pd.read_table('./deg-np-15.2/degannotation-np.dat', names=['DEG_AC', 'Gene_Name', 'Gene_Ref', 'COG', 'Class', \n",
    "                                                                      'Function', 'Organism', 'Refseq', 'Condition'])\n",
    "md1.drop(0, inplace=True)\n",
    "md2 = pd.read_table('./deg-p-15.2/degannotation-p.dat', names=['DEG_AC', 'Gene_Name', 'Gene_Ref', 'COG', 'Class', \n",
    "                                                                      'Function', 'Organism', 'Refseq', 'Condition'])\n",
    "md2.drop(0, inplace=True)\n",
    "mge_data = pd.concat([md1, md2])\n",
    "mge_data = mge_data[mge_data['Refseq'] == 'Mycoplasma genitalium G37']\n",
    "mge_data = mge_data[['Gene_Ref','Organism']]\n",
    "mge_data['Gene_Ref'] = mge_data['Gene_Ref'].apply(lambda x: x.split('/'))\n",
    "mge_data.tail(5)"
   ]
  },
  {
   "cell_type": "code",
   "execution_count": 24,
   "metadata": {},
   "outputs": [
    {
     "data": {
      "text/plain": [
       "dict_values([1, 1, 1, 1, 1, 1, 1, 0, 1, 1, 5, 1, 1, 1, 0, 1, 1, 1, 0, 1, 1, 1, 1, 1, 1, 1, 1, 1, 1, 1, 1, 1, 1, 0, 1, 1, 1, 1, 1, 1, 1, 4, 1, 1, 1, 1, 0, 1, 1, 0, 1, 1, 1, 1, 1, 1, 1, 1, 1, 1, 1, 1, 1, 1, 1, 1, 1, 1, 1, 1, 1, 0, 0, 0, 0, 0, 0, 0, 0, 0, 0, 0, 0, 0, 0, 0, 0, 0, 0, 0, 0, 0, 0, 0, 0, 0, 0, 0, 0, 0, 0, 0, 0, 0, 0, 0, 0, 0, 0, 0, 0, 0, 0, 0, 0, 0, 0, 0, 0, 0, 0, 0, 0, 0, 0, 0, 0, 0, 0, 0, 0, 0, 0, 0, 0, 0, 0, 0, 0, 0, 0, 0, 0, 0, 0, 0, 0, 0, 0, 0, 0])"
      ]
     },
     "execution_count": 24,
     "metadata": {},
     "output_type": "execute_result"
    }
   ],
   "source": [
    "#Amount of associations in database by node\n",
    "mge_info = {}\n",
    "for query in queries:\n",
    "    mge_info[query[0]] = 0\n",
    "    for index, row in mge_data.iterrows(): \n",
    "        if query[0] in row['Gene_Ref'] or any(x in row['Organism'] for x in query):\n",
    "            mge_info[query[0]] += 1\n",
    "mge_info.values()"
   ]
  },
  {
   "cell_type": "code",
   "execution_count": 25,
   "metadata": {},
   "outputs": [
    {
     "data": {
      "text/plain": [
       "['eno', 'pta']"
      ]
     },
     "execution_count": 25,
     "metadata": {},
     "output_type": "execute_result"
    }
   ],
   "source": [
    "#Nodes with more than 1 association in Mycoplasma genitalium G37 database\n",
    "[k for k in mge_info if mge_info[k] > 1]"
   ]
  },
  {
   "cell_type": "code",
   "execution_count": 26,
   "metadata": {},
   "outputs": [
    {
     "data": {
      "image/png": "[encoded data removed]",
      "text/plain": [
       "<matplotlib.figure.Figure at 0x274a81742b0>"
      ]
     },
     "metadata": {},
     "output_type": "display_data"
    }
   ],
   "source": [
    "#Node frequency distribution\n",
    "import numpy as np\n",
    "import scipy.stats as stats\n",
    "import matplotlib.pyplot as plt\n",
    "\n",
    "h = sorted(mge_info.values())\n",
    "hmean = np.mean(h)\n",
    "hstd = np.std(h)\n",
    "pdf = stats.norm.pdf(h, hmean, hstd)\n",
    "plt.plot(h, pdf)\n",
    "plt.show()"
   ]
  },
  {
   "cell_type": "code",
   "execution_count": null,
   "metadata": {
    "collapsed": true
   },
   "outputs": [],
   "source": []
  }
 ],
 "metadata": {
  "kernelspec": {
   "display_name": "Python 3",
   "language": "python",
   "name": "python3"
  },
  "language_info": {
   "codemirror_mode": {
    "name": "ipython",
    "version": 3
   },
   "file_extension": ".py",
   "mimetype": "text/x-python",
   "name": "python",
   "nbconvert_exporter": "python",
   "pygments_lexer": "ipython3",
   "version": "3.6.1"
  }
 },
 "nbformat": 4,
 "nbformat_minor": 2
}
