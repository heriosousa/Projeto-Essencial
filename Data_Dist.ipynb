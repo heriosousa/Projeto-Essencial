{
 "cells": [
  {
   "cell_type": "code",
   "execution_count": 96,
   "metadata": {},
   "outputs": [
    {
     "name": "stdout",
     "output_type": "stream",
     "text": [
      "Retrieving data from KEGG PATHWAY database. Tue Mar 20 21:17:59 2018\n",
      "Building graphs.\n"
     ]
    }
   ],
   "source": [
    "import modelo as m\n",
    "import networkx as nx\n",
    "import Bio.KEGG.REST as rkg\n",
    "import Bio.KEGG.Enzyme as ex\n",
    "\n",
    "eco = m.get_network(\"eco\", opt='eco')"
   ]
  },
  {
   "cell_type": "code",
   "execution_count": 98,
   "metadata": {},
   "outputs": [],
   "source": [
    "eco_nodes = list(eco.grafo.nodes())\n",
    "eco_nodes.remove('undefined')\n",
    "orf_queries = []\n",
    "product_queries = []\n",
    "\n",
    "for i in range(len(eco_nodes)):\n",
    "    gene = rkg.kegg_get(eco_nodes[i])\n",
    "    tmp = ex.read(gene)\n",
    "    if eco_nodes[i].startswith(\"eco:\"):\n",
    "        orf_queries.append(tmp.name[0])\n",
    "    elif tmp.name != []:\n",
    "        product_queries.append(tmp.name)"
   ]
  },
  {
   "cell_type": "code",
   "execution_count": 99,
   "metadata": {
    "scrolled": true
   },
   "outputs": [
    {
     "data": {
      "text/html": [
       "<div>\n",
       "<style>\n",
       "    .dataframe thead tr:only-child th {\n",
       "        text-align: right;\n",
       "    }\n",
       "\n",
       "    .dataframe thead th {\n",
       "        text-align: left;\n",
       "    }\n",
       "\n",
       "    .dataframe tbody tr th {\n",
       "        vertical-align: top;\n",
       "    }\n",
       "</style>\n",
       "<table border=\"1\" class=\"dataframe\">\n",
       "  <thead>\n",
       "    <tr style=\"text-align: right;\">\n",
       "      <th></th>\n",
       "      <th>Orf</th>\n",
       "      <th>AltName</th>\n",
       "      <th>Class</th>\n",
       "      <th>Product</th>\n",
       "    </tr>\n",
       "  </thead>\n",
       "  <tbody>\n",
       "    <tr>\n",
       "      <th>4492</th>\n",
       "      <td>creC</td>\n",
       "      <td>[b4399, ECK4391, JW4362, o474, phoM]</td>\n",
       "      <td>2</td>\n",
       "      <td>sensory histidine kinase in two-component regu...</td>\n",
       "    </tr>\n",
       "    <tr>\n",
       "      <th>4493</th>\n",
       "      <td>creD</td>\n",
       "      <td>[b4400, cet, ECK4392, JW4363, refII]</td>\n",
       "      <td>2</td>\n",
       "      <td>inner membrane protein</td>\n",
       "    </tr>\n",
       "    <tr>\n",
       "      <th>4494</th>\n",
       "      <td>arcA</td>\n",
       "      <td>[b4401, cpxC, dye, ECK4393, fexA, JW4364, msp,...</td>\n",
       "      <td>2</td>\n",
       "      <td>DNA-binding response regulator in two-componen...</td>\n",
       "    </tr>\n",
       "    <tr>\n",
       "      <th>4495</th>\n",
       "      <td>yjjY</td>\n",
       "      <td>[b4402, ECK4394, JW4365, o46]</td>\n",
       "      <td>2</td>\n",
       "      <td>hypothetical protein</td>\n",
       "    </tr>\n",
       "    <tr>\n",
       "      <th>4496</th>\n",
       "      <td>yjtD</td>\n",
       "      <td>[b4403, ECK4395, JW4366, lasT, o228b]</td>\n",
       "      <td>2</td>\n",
       "      <td>putative methyltransferase</td>\n",
       "    </tr>\n",
       "  </tbody>\n",
       "</table>\n",
       "</div>"
      ],
      "text/plain": [
       "       Orf                                            AltName  Class  \\\n",
       "4492  creC               [b4399, ECK4391, JW4362, o474, phoM]      2   \n",
       "4493  creD               [b4400, cet, ECK4392, JW4363, refII]      2   \n",
       "4494  arcA  [b4401, cpxC, dye, ECK4393, fexA, JW4364, msp,...      2   \n",
       "4495  yjjY                      [b4402, ECK4394, JW4365, o46]      2   \n",
       "4496  yjtD              [b4403, ECK4395, JW4366, lasT, o228b]      2   \n",
       "\n",
       "                                                Product  \n",
       "4492  sensory histidine kinase in two-component regu...  \n",
       "4493                             inner membrane protein  \n",
       "4494  DNA-binding response regulator in two-componen...  \n",
       "4495                               hypothetical protein  \n",
       "4496                         putative methyltransferase  "
      ]
     },
     "execution_count": 99,
     "metadata": {},
     "output_type": "execute_result"
    }
   ],
   "source": [
    "import pandas as pd\n",
    "\n",
    "eco_data = pd.read_table('PECData.dat')\n",
    "eco_data.rename(columns={'Class(1:essential 2:noessential 3:unknown)': 'Class',\n",
    "                         'Alternative name': 'AltName'}, inplace=True)\n",
    "eco_data = eco_data[['Orf','AltName','Class','Product']]\n",
    "eco_data['AltName'] = eco_data['AltName'].apply(lambda x: x.split(','))\n",
    "eco_data = eco_data.drop_duplicates(subset='Orf', keep='first')\n",
    "eco_data.tail()"
   ]
  },
  {
   "cell_type": "code",
   "execution_count": 100,
   "metadata": {},
   "outputs": [
    {
     "data": {
      "text/plain": [
       "dict_values([1, 1, 1, 1, 1, 1, 1, 1, 1, 1, 1, 0, 1, 1, 1, 1, 1, 1, 1, 1, 1, 1, 1, 1, 1, 1, 1, 1, 1, 1, 1, 1, 1, 1, 1, 1, 1, 1, 1, 1, 1, 1, 1, 1, 1, 1, 1, 1, 1, 1, 1, 1, 1, 1, 1, 1, 1, 1, 1, 1, 1, 1, 1, 1, 1, 1, 1, 1, 1, 1, 1, 1, 1, 1, 1, 1, 1, 1, 1, 1, 1, 1, 1, 1, 1, 1, 1, 1, 1, 1, 1, 1, 1, 1, 1, 1, 1, 1, 1, 1, 1, 1, 1, 1, 1, 1, 1, 1, 1, 1, 1, 1, 1, 1, 1, 1, 1, 1, 1, 1, 1, 1, 1, 1, 1, 1, 1, 1, 1, 1, 1, 1, 1, 1, 1, 1, 1, 1, 1, 1, 1, 1, 1, 1, 1, 1, 0, 0, 1, 1, 1, 1, 1, 1, 1, 1, 1, 1, 1, 1, 1, 1, 1, 1, 1, 1, 1, 1, 1, 1, 1, 1, 1, 0, 1, 1, 1, 1, 1, 1, 1, 1, 1, 1, 1, 1, 1, 1, 1, 1, 1, 1, 1, 1, 1, 1, 1, 1, 1, 1, 1, 1, 1, 1, 1, 1, 1, 1, 0, 1, 1, 1, 1, 1, 1, 1, 1, 1, 1, 1, 1, 1, 1, 1, 1, 1, 1, 1, 1, 1, 1, 1, 1, 1, 1, 1, 1, 1, 1, 1, 1, 1, 1, 1, 1, 1, 1, 1, 1, 1, 1, 1, 1, 1, 1, 1, 1, 1, 1, 1, 1, 1, 1, 1, 1, 1, 1, 1, 1, 1, 1, 1, 1, 1, 1, 1, 1, 1, 1, 1, 1, 1, 1, 1, 1, 1, 1, 1, 1, 1, 1, 1, 1, 1, 1, 1, 1, 1, 1, 1, 1, 1, 1, 1, 1, 1, 1, 1, 1, 1, 1, 1, 1, 1, 1, 1, 1, 1, 1, 1, 1, 1, 1, 1, 1, 1, 1, 1, 1, 1, 1, 1, 1, 1, 1, 1, 1, 1, 1, 1, 1, 1, 1, 1, 1, 1, 1, 1, 1, 1, 1, 1, 1, 1, 1, 1, 1, 1, 1, 1, 1, 1, 1, 1, 1, 1, 1, 1, 1, 1, 1, 1, 1, 1, 1, 1, 1, 1, 1, 1, 1, 1, 1, 1, 1, 1, 1, 1, 1, 1, 1, 1, 1, 1, 1, 1, 1, 1, 1, 1, 1, 1, 1, 1, 1, 1, 1, 1, 1, 1, 1, 1, 1, 1, 1, 1, 1, 1, 1, 1, 1, 1, 1, 1, 1, 1, 1, 1, 1, 1, 1, 1, 1, 1, 1, 1, 1, 1, 1, 1, 1, 1, 1, 1, 1, 1, 1, 1, 1, 1, 1, 1, 1, 1, 1, 1, 1, 1, 1, 1, 1, 1, 1, 1, 1, 1, 1, 1, 1, 1, 1, 1, 1, 1, 1, 1, 1, 1, 1, 1, 1, 1, 1, 1, 1, 1, 1, 1, 1, 1, 1, 1, 1, 1, 1, 1, 1, 1, 1, 1, 1, 1, 1, 1, 1, 1, 1, 1, 1, 1, 1, 1, 1, 1, 1, 1, 1, 1, 1, 1, 1, 1, 1, 1, 1, 1, 1, 1, 1, 1, 1, 1, 1, 1, 1, 1, 1, 1, 1, 1, 1, 1, 1, 1, 1, 1, 1, 1, 1, 1, 1, 1, 1, 1, 1, 1, 1, 1, 1, 1, 1, 1, 1, 1, 1, 1, 1, 1, 1, 1, 1, 1, 1, 1, 1, 1, 1, 1, 1, 1, 1, 1, 1, 1, 1, 1, 1, 1, 1, 1, 1, 1, 1, 1, 1, 1, 1, 1, 1, 1, 1, 1, 1, 1, 1, 1, 1, 1, 1, 1, 1, 1, 1, 1, 1, 1, 1, 1, 1, 1, 1, 1, 1, 1, 1, 1, 1, 1, 1, 1, 1, 1, 1, 1, 1, 1, 1, 1, 1, 1, 1, 1, 1, 1, 1, 1, 1, 1, 1, 1, 1, 1, 1, 1, 1, 1, 1, 1, 1, 1, 1, 1, 1, 1, 1, 1, 1, 1, 1, 1, 1, 1, 1, 1, 1, 1, 1, 1, 1, 1, 1, 1, 1, 1, 1, 1, 1, 1, 1, 1, 1, 1, 1, 1, 1, 1, 1, 1, 1, 1, 1, 1, 1, 1, 1, 1, 1, 1, 1, 1, 1, 1, 1, 1, 1, 1, 1, 1, 1, 1, 1, 1, 1, 1, 1, 1, 1, 1, 1, 1, 1, 1, 1, 1, 1, 1, 1, 1, 1, 0, 1, 1, 1, 1, 1, 1, 1, 1, 1, 1, 1, 1, 1, 1, 1, 1, 1, 1, 1, 1, 1, 1, 1, 1, 1, 1, 1, 1, 1, 1, 1, 1, 1, 1, 1, 1, 1, 1, 1, 1, 1, 1, 1, 1, 1, 1, 1, 1, 1, 0, 1, 1, 1, 1, 1, 1, 1, 1, 1, 1, 1, 1, 1, 1, 1, 1, 1, 1, 1, 1, 1, 1, 1, 0, 1, 1, 1, 1, 1, 1, 1, 1, 1, 1, 1, 1, 1, 1, 1, 1, 1, 1, 1, 1, 1, 1, 1, 1, 1, 1, 1, 1, 1, 1, 1, 1, 1, 1, 1, 1, 1, 1, 1, 1, 1, 1, 1, 1, 1, 1, 1, 1, 1, 1, 1, 1, 1, 1, 1, 1, 1, 1, 1, 1, 1, 1, 1, 1, 1, 1, 1, 1, 1, 1, 1, 1, 1, 1, 1, 1, 1, 1, 1, 1, 1, 1, 1, 1, 1, 1, 1, 1, 1, 1, 1, 1, 1, 1, 1, 1, 1, 1, 1, 1, 1, 1, 1, 1, 1, 1, 0, 0, 0, 7, 0, 0, 0, 0, 0, 0, 1, 0, 0, 0, 0, 0, 0, 0, 1, 0, 0, 0, 0, 0, 0, 0, 3, 0, 0, 0, 0, 0, 0, 0, 0, 0, 0, 0, 0, 0, 0, 0, 0, 0, 0, 0, 0, 0, 4, 0, 0, 0, 2, 0, 0, 0, 2, 0, 0, 0, 0, 0, 1, 0, 0, 0, 0, 6, 2, 0, 0, 0, 0, 0, 0, 0, 0, 0, 0, 0, 0, 0, 0, 0, 0, 0, 0, 1, 0, 0, 0, 0, 0, 0, 0, 0, 0, 0, 0, 0, 0, 0, 0, 0, 0, 0, 0, 0, 0, 0, 0, 0, 0, 0, 0, 0, 0, 0, 0, 0, 0, 0, 0, 0, 0, 0, 0, 0, 0, 0, 0, 0, 0, 0, 0, 0, 0, 0, 0, 0, 0, 0, 0, 0, 0, 0, 0, 0, 0, 0, 0, 0, 0, 0, 0, 0, 0, 0, 0, 0, 0, 0, 0, 0, 0, 0, 0, 0, 0, 0, 0, 0, 0, 0, 0, 0, 0, 0, 0, 0, 0, 0, 0, 0, 0, 0, 0, 0, 0, 0, 0, 0, 0, 0, 0, 0, 0, 0, 0, 0, 0, 0, 0, 0, 0, 0, 0, 0, 0, 0, 0, 0, 0, 0, 0, 0, 0, 0, 0, 0, 0, 0, 0, 0, 0, 0, 0, 0, 0, 0, 0, 0, 0, 0, 0, 0, 0, 0, 0, 0, 0, 0, 0, 0, 0, 0, 0, 0, 0, 0, 0, 0, 0, 0, 0, 0, 0, 0, 0, 0, 0, 0, 0, 0, 0, 0, 0, 0, 0, 0, 0, 0, 0, 0, 0, 0, 0, 0, 0, 0, 0, 0, 0, 0, 0, 0, 0, 0, 0, 0, 0, 0, 0, 0, 0, 0, 0, 0, 0, 0, 0, 0])"
      ]
     },
     "execution_count": 100,
     "metadata": {},
     "output_type": "execute_result"
    }
   ],
   "source": [
    "#Amount of associations in database by node\n",
    "eco_info = {}\n",
    "for orf in orf_queries:\n",
    "    if orf in list(eco_data['Orf']):\n",
    "        eco_info[orf] = 1\n",
    "    elif any(orf in x for x in list(eco_data['AltName'])):\n",
    "        eco_info[orf] = 1\n",
    "    else:\n",
    "        eco_info[orf] = 0\n",
    "for query in product_queries:\n",
    "    eco_info[tuple(query)] = 0\n",
    "    for product in query:\n",
    "        for data in list(eco_data['Product']):\n",
    "            if product in str(data):\n",
    "                eco_info[tuple(query)] += 1\n",
    "eco_info.values()"
   ]
  },
  {
   "cell_type": "code",
   "execution_count": 101,
   "metadata": {},
   "outputs": [
    {
     "data": {
      "text/plain": [
       "[('Lipopolysaccharide', 'LPS'),\n",
       " ('Zinc cation', 'Zn2+', 'Zn(II)', 'Zinc ion'),\n",
       " ('AI-2', 'Autoinducer 2'),\n",
       " ('D-Glucose', 'Grape sugar', 'Dextrose', 'Glucose', 'D-Glucopyranose'),\n",
       " ('Potassium cation', 'K+', 'Potassium(1+)', 'Potassium ion'),\n",
       " ('Glycine', 'Aminoacetic acid', 'Gly'),\n",
       " (\"3',5'-Cyclic AMP\",\n",
       "  'Cyclic adenylic acid',\n",
       "  'Cyclic AMP',\n",
       "  \"Adenosine 3',5'-phosphate\",\n",
       "  \"Adenosine 3',5'-cyclic phosphate\",\n",
       "  'cAMP')]"
      ]
     },
     "execution_count": 101,
     "metadata": {},
     "output_type": "execute_result"
    }
   ],
   "source": [
    "#Nodes with more than 1 association in Escherichia coli MG1655 database\n",
    "[k for k in eco_info if eco_info[k] > 1]"
   ]
  },
  {
   "cell_type": "code",
   "execution_count": 102,
   "metadata": {},
   "outputs": [
    {
     "data": {
      "image/png": "[encoded data removed]",
      "text/plain": [
       "<matplotlib.figure.Figure at 0x225b2318c88>"
      ]
     },
     "metadata": {},
     "output_type": "display_data"
    }
   ],
   "source": [
    "#Node frequency distribution\n",
    "import numpy as np\n",
    "import scipy.stats as stats\n",
    "import matplotlib.pyplot as plt\n",
    "\n",
    "h = sorted(eco_info.values())\n",
    "hmean = np.mean(h)\n",
    "hstd = np.std(h)\n",
    "pdf = stats.norm.pdf(h, hmean, hstd)\n",
    "plt.plot(h, pdf)\n",
    "plt.show()"
   ]
  },
  {
   "cell_type": "code",
   "execution_count": 103,
   "metadata": {},
   "outputs": [
    {
     "name": "stdout",
     "output_type": "stream",
     "text": [
      "Retrieving data from KEGG PATHWAY database. Tue Mar 20 21:42:04 2018\n",
      "Building graphs.\n"
     ]
    }
   ],
   "source": [
    "mge = m.get_network(\"mge\", opt='mge')"
   ]
  },
  {
   "cell_type": "code",
   "execution_count": 104,
   "metadata": {
    "collapsed": true
   },
   "outputs": [],
   "source": [
    "mge_nodes = list(mge.grafo.nodes())\n",
    "mge_nodes.remove('undefined')\n",
    "orf_queries = []\n",
    "product_queries = []\n",
    "\n",
    "for i in range(len(mge_nodes)):\n",
    "    gene = rkg.kegg_get(mge_nodes[i])\n",
    "    tmp = ex.read(gene)\n",
    "    if mge_nodes[i].startswith(\"mge:\") and tmp.name != []:\n",
    "        orf_queries.append(tmp.name[0])\n",
    "    elif tmp.name != []:\n",
    "        product_queries.append(tmp.name)"
   ]
  },
  {
   "cell_type": "code",
   "execution_count": 105,
   "metadata": {},
   "outputs": [
    {
     "data": {
      "text/html": [
       "<div>\n",
       "<style>\n",
       "    .dataframe thead tr:only-child th {\n",
       "        text-align: right;\n",
       "    }\n",
       "\n",
       "    .dataframe thead th {\n",
       "        text-align: left;\n",
       "    }\n",
       "\n",
       "    .dataframe tbody tr th {\n",
       "        vertical-align: top;\n",
       "    }\n",
       "</style>\n",
       "<table border=\"1\" class=\"dataframe\">\n",
       "  <thead>\n",
       "    <tr style=\"text-align: right;\">\n",
       "      <th></th>\n",
       "      <th>Gene_Ref</th>\n",
       "      <th>Organism</th>\n",
       "    </tr>\n",
       "  </thead>\n",
       "  <tbody>\n",
       "    <tr>\n",
       "      <th>2371</th>\n",
       "      <td>[MG_467]</td>\n",
       "      <td>ABC transporter, ATP-binding protein</td>\n",
       "    </tr>\n",
       "    <tr>\n",
       "      <th>2372</th>\n",
       "      <td>[MG_468]</td>\n",
       "      <td>ABC transporter, permease protein</td>\n",
       "    </tr>\n",
       "    <tr>\n",
       "      <th>2373</th>\n",
       "      <td>[MG468.1, MG_526]</td>\n",
       "      <td>ABC transporter, ATP-binding protein</td>\n",
       "    </tr>\n",
       "    <tr>\n",
       "      <th>2374</th>\n",
       "      <td>[dnaA]</td>\n",
       "      <td>chromosomal replication initiator protein DnaA</td>\n",
       "    </tr>\n",
       "    <tr>\n",
       "      <th>2375</th>\n",
       "      <td>[soj]</td>\n",
       "      <td>CobQ/CobB/MinD/ParA nucleotide binding domain</td>\n",
       "    </tr>\n",
       "  </tbody>\n",
       "</table>\n",
       "</div>"
      ],
      "text/plain": [
       "               Gene_Ref                                        Organism\n",
       "2371           [MG_467]            ABC transporter, ATP-binding protein\n",
       "2372           [MG_468]               ABC transporter, permease protein\n",
       "2373  [MG468.1, MG_526]            ABC transporter, ATP-binding protein\n",
       "2374             [dnaA]  chromosomal replication initiator protein DnaA\n",
       "2375              [soj]   CobQ/CobB/MinD/ParA nucleotide binding domain"
      ]
     },
     "execution_count": 105,
     "metadata": {},
     "output_type": "execute_result"
    }
   ],
   "source": [
    "md1 = pd.read_table('./deg-np-15.2/degannotation-np.dat', names=['DEG_AC', 'Gene_Name', 'Gene_Ref', 'COG', 'Class', \n",
    "                                                                      'Function', 'Organism', 'Refseq', 'Condition'])\n",
    "md1.drop(0, inplace=True)\n",
    "md2 = pd.read_table('./deg-p-15.2/degannotation-p.dat', names=['DEG_AC', 'Gene_Name', 'Gene_Ref', 'COG', 'Class', \n",
    "                                                                      'Function', 'Organism', 'Refseq', 'Condition'])\n",
    "md2.drop(0, inplace=True)\n",
    "mge_data = pd.concat([md1, md2])\n",
    "mge_data = mge_data[mge_data['Refseq'] == 'Mycoplasma genitalium G37']\n",
    "mge_data = mge_data[['Gene_Ref','Organism']]\n",
    "mge_data['Gene_Ref'] = mge_data['Gene_Ref'].apply(lambda x: x.split('/'))\n",
    "mge_data.tail(5)"
   ]
  },
  {
   "cell_type": "code",
   "execution_count": 109,
   "metadata": {},
   "outputs": [
    {
     "data": {
      "text/plain": [
       "dict_values([0, 0, 0, 0, 0, 0, 4, 0, 0, 10, 0, 0, 0, 4, 0, 0, 0, 0, 0, 0, 0, 0, 1, 0, 0, 0, 0, 0, 0, 0, 0, 0, 0, 0, 0, 0, 0, 0, 0, 0, 0, 0, 0, 0, 0, 0, 0, 0, 0, 0, 0, 0, 0, 0, 0, 0, 0, 0, 0, 0, 0, 0, 0, 0, 0, 0, 0, 0, 0, 0, 0, 0, 0, 0, 0, 0, 0, 0, 0, 0, 1, 1, 1, 1, 1, 1, 1, 1, 1, 1, 1, 1, 1, 1, 1, 1, 1, 1, 1, 1, 1, 1, 1, 1, 1, 1, 1, 1, 1, 1, 1, 1, 1, 1, 1, 1, 1, 1, 1, 1, 1, 1, 1, 1, 1, 1, 1, 1, 1, 1, 1, 1, 1, 1, 1, 1, 1, 1, 1, 1, 1, 1, 1, 1, 1])"
      ]
     },
     "execution_count": 109,
     "metadata": {},
     "output_type": "execute_result"
    }
   ],
   "source": [
    "#Amount of associations in database by node\n",
    "mge_info = {}\n",
    "for index, row in mge_data.iterrows():\n",
    "    if any(x in row['Gene_Ref'] for x in orf_queries):\n",
    "        mge_info[row['Gene_Ref'][0]] = 1\n",
    "        continue\n",
    "    for query in product_queries:\n",
    "        if tuple(query) not in mge_info:\n",
    "            mge_info[tuple(query)] = 0\n",
    "        for product in query:\n",
    "            if product.lower() in row['Organism']:\n",
    "                mge_info[tuple(query)] += 1\n",
    "                break\n",
    "mge_info.values()"
   ]
  },
  {
   "cell_type": "code",
   "execution_count": 110,
   "metadata": {},
   "outputs": [
    {
     "data": {
      "text/plain": [
       "[('Oligopeptide',),\n",
       " ('Orthophosphate', 'Phosphate', 'Phosphoric acid', 'Orthophosphoric acid'),\n",
       " ('Putrescine',\n",
       "  '1,4-Butanediamine',\n",
       "  '1,4-Diaminobutane',\n",
       "  'Tetramethylenediamine',\n",
       "  'Butane-1,4-diamine')]"
      ]
     },
     "execution_count": 110,
     "metadata": {},
     "output_type": "execute_result"
    }
   ],
   "source": [
    "#Nodes with more than 1 association in Mycoplasma genitalium G37 database\n",
    "[k for k in mge_info if mge_info[k] > 1]"
   ]
  },
  {
   "cell_type": "code",
   "execution_count": 111,
   "metadata": {},
   "outputs": [
    {
     "data": {
      "image/png": "[encoded data removed]",
      "text/plain": [
       "<matplotlib.figure.Figure at 0x225b2a3eb70>"
      ]
     },
     "metadata": {},
     "output_type": "display_data"
    }
   ],
   "source": [
    "#Node frequency distribution\n",
    "import numpy as np\n",
    "import scipy.stats as stats\n",
    "import matplotlib.pyplot as plt\n",
    "\n",
    "h = sorted(mge_info.values())\n",
    "hmean = np.mean(h)\n",
    "hstd = np.std(h)\n",
    "pdf = stats.norm.pdf(h, hmean, hstd)\n",
    "plt.plot(h, pdf)\n",
    "plt.show()"
   ]
  }
 ],
 "metadata": {
  "kernelspec": {
   "display_name": "Python 3",
   "language": "python",
   "name": "python3"
  },
  "language_info": {
   "codemirror_mode": {
    "name": "ipython",
    "version": 3
   },
   "file_extension": ".py",
   "mimetype": "text/x-python",
   "name": "python",
   "nbconvert_exporter": "python",
   "pygments_lexer": "ipython3",
   "version": "3.6.1"
  }
 },
 "nbformat": 4,
 "nbformat_minor": 2
}
